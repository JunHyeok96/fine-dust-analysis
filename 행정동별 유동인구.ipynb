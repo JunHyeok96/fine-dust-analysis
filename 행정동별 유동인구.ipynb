{
 "cells": [
  {
   "cell_type": "code",
   "execution_count": 1,
   "metadata": {},
   "outputs": [],
   "source": [
    "import pandas as pd\n",
    "import numpy as np\n",
    "import matplotlib as mpl          \n",
    "import matplotlib.pyplot as plt \n",
    "import seaborn as sns\n",
    "import operator\n",
    "import glob\n",
    "from tensorflow.keras.utils import to_categorical\n",
    "import tensorflow as tf\n",
    "from tensorflow import keras\n",
    "%matplotlib inline \n",
    "from sklearn.preprocessing import OneHotEncoder\n",
    "from sklearn.model_selection import train_test_split\n",
    "from sklearn.linear_model import LinearRegression\n",
    "\n",
    "import matplotlib.font_manager as fm\n",
    "\n",
    "fontprop = fm.FontProperties(fname=\"IropkeBatangM.ttf\", size=13)\n"
   ]
  },
  {
   "cell_type": "markdown",
   "metadata": {},
   "source": [
    "필요한 라이브러리를 import한다."
   ]
  },
  {
   "cell_type": "code",
   "execution_count": 2,
   "metadata": {},
   "outputs": [],
   "source": [
    "##기상데이터 모두 합치기\n",
    "\n",
    "# read files\n",
    "weather_allFiles1 = glob.glob('./환경기상데이터/노원구/*')\n",
    "weather_allFiles2 = glob.glob('./환경기상데이터/종로구/*')\n",
    "allFiles = weather_allFiles1 + weather_allFiles2\n",
    "w = []\n",
    "\n",
    "for f in allFiles:\n",
    "    temp = pd.read_csv(f)\n",
    "    w.append(temp)\n",
    "\n",
    "weather = pd.concat(w)\n",
    "\n",
    "weather.drop(['flag', 'co2', 'vocs', 'noise', 'Unnamed: 10', 'temp','humi'], axis = 1, inplace=True)\n",
    "\n",
    "# 이상치 제거\n",
    "weather = weather[weather['pm10'] != -999]\n",
    "weather['tm'] = weather['tm'] // 100\n",
    "weather.head()\n",
    "\n",
    "# 계층적 인덱스를 사용하지 않아서 reset_index() 로 인덱스를 칼럼으로 변환\n",
    "# groupby serial & tm and average\n",
    "weather = weather.groupby(['tm', 'serial']).mean().reset_index()\n",
    "\n",
    "# serial number 를 행정동코드로 바꾼다.\n",
    "weather.replace('V10O1610252',11110615, inplace = True)\n",
    "weather.replace('V10O1610546',11110615, inplace = True)\n",
    "weather.replace('V10O1610540',11110615, inplace = True)\n",
    "weather.replace('V10O1610542',11110615, inplace = True)\n",
    "weather.replace('V10O1610543',11110615, inplace = True)\n",
    "weather.replace('V10O1610544',11110615, inplace = True)\n",
    "weather.replace('V10O1610545',11110615, inplace = True)\n",
    "weather.replace('V10O1610567',11110615, inplace = True)\n",
    "weather.replace('V01o1610468',11110530, inplace = True)\n",
    "weather.replace('V10O1611289',999, inplace = True)\n",
    "weather.replace('V10O1611172',11110530, inplace = True)\n",
    "weather.replace('V10O1611634',11110600, inplace = True)\n",
    "weather.replace('V10O1611887',999, inplace = True)\n",
    "weather.replace('V10O1611639',11110630, inplace = True)\n",
    "weather.replace('V10O1611658',11110640, inplace = True)\n",
    "weather.replace('V10O1612113',11110615, inplace = True)\n",
    "weather.replace('V10O1611151',11110670, inplace = True)\n",
    "weather.replace('V10O1611145',11110615, inplace = True)\n",
    "weather.replace('V10O1611623',11110650, inplace = True)\n",
    "weather.replace('V10O1611750',11110615, inplace = True)\n",
    "weather.replace('V10O1611170',11110550, inplace = True)\n",
    "weather.replace('V10O1611684',11110615, inplace = True)\n",
    "weather.replace('V10O1611220',11110670, inplace = True)\n",
    "weather.replace('V10O1612106',11110710, inplace = True)\n",
    "weather.replace('V10O1611251',11110690, inplace = True)\n",
    "weather.replace('V10O1611173',11110615, inplace = True)\n",
    "weather.replace('V10O1611258',11110560, inplace = True)\n",
    "weather.replace('V10O1611255',11110515, inplace = True)\n",
    "weather.replace('V10O1611698',11110600, inplace = True)\n",
    "weather.replace('V10O1611722',11110600, inplace = True)\n",
    "weather.replace('V10O1611645',11110650, inplace = True)\n",
    "weather.replace('V10O1610610',11350611, inplace = True)\n",
    "weather.replace('V10O1610376',11350695, inplace = True)\n",
    "weather.replace('V10O1610293',11350720, inplace = True)\n",
    "weather.replace('V10O1610356',11350630, inplace = True)\n",
    "weather.replace('V10O1610616',11350640, inplace = True)\n",
    "weather.replace('V10O1610200',11350640, inplace = True)\n",
    "weather.replace('V10O1610643',11350580, inplace = True)\n",
    "weather.replace('V10O1610642',11350600, inplace = True)\n",
    "weather.replace('V10O1610297',11350670, inplace = True)\n",
    "weather.replace('V10O1610312',11350640, inplace = True)\n",
    "weather.replace('V10O1610102',11350611, inplace = True)\n",
    "weather.replace('V10O1610351',11350695, inplace = True)\n",
    "weather.replace('V10O1610629',11350595, inplace = True)\n",
    "weather.replace('V10O1610630',11350595, inplace = True)\n",
    "weather.replace('V10O1611104',11350695, inplace = True)\n",
    "weather.replace('V10O1611097',11350625, inplace = True)\n",
    "weather.replace('V10O1611100',11350640, inplace = True)\n",
    "weather.replace('V10O1612126',11350619, inplace = True)\n",
    "weather.replace('V10O1611102',11350670, inplace = True)\n",
    "weather.replace('V10O1611652',11350600, inplace = True)\n",
    "weather.replace('V10O1611150',11350665, inplace = True)\n",
    "weather.replace('V10O1611229',11350560, inplace = True)\n",
    "location = list(weather['serial'].unique())\n",
    "location.remove(999)\n",
    "location_weather={}\n",
    "for i in location:\n",
    "    location_weather[i] = weather[weather['serial']==i].groupby('tm')['pm10','pm25'].mean().reset_index()"
   ]
  },
  {
   "cell_type": "markdown",
   "metadata": {},
   "source": [
    "1. 모든 기상데이터를 합치고 필요한 컬럼만 남긴다.\n",
    "2. 결측치(-999)의 인덱스는 제거해준다.\n",
    "3. 다른 데이터 파일의 컬럼과 형식을 맞춰주기위해 컬럼명을 수정한다.\n",
    "4. location_weather라는 딕셔너리를 만들고 지역별로 데이터프레임을 구분한다. "
   ]
  },
  {
   "cell_type": "code",
   "execution_count": 3,
   "metadata": {},
   "outputs": [],
   "source": [
    "##주말 날짜 구분    # 휴일 total_holiday, 주말 weekend_date , 공휴일 holiday, 평일 weekday\n",
    "weather_copy = weather['tm']//100\n",
    "weekdata_index = list(set(weather['tm']//100))\n",
    "weekdata_index.sort()\n",
    "weekend_data_saturday = []\n",
    "weekend_data_sunday = []\n",
    "\n",
    "for i in range(53):  #일요일\n",
    "    weekend_data_sunday.append(weekdata_index[0+(7*i)])\n",
    "for i in range(52): #토요일\n",
    "    weekend_data_saturday.append(weekdata_index[6+(7*i)])\n",
    "weekend_date = [] #토요일+일요일\n",
    "for i in weekend_data_saturday:\n",
    "    weekend_date.append(i)\n",
    "for i in weekend_data_sunday:\n",
    "    weekend_date.append(i)\n",
    "weekend_date.sort()\n",
    "\n",
    "holiday = [20180505, 20180507, 20180522, 20180606, 20180613, 20180815,\n",
    "          20180923, 20180924, 20180925, 20180926, 20181003, 20181009, 20181225,\n",
    "          20190101, 20190204, 20190205, 20190206, 20190301]\n",
    "\n",
    "weekend_date_copy = weekend_date\n",
    "for i in holiday:\n",
    "    weekend_date_copy.append(i)\n",
    "total_holiday = list(set(weekend_date_copy))\n",
    "total_holiday = np.array(total_holiday)\n",
    "total_holiday.sort()\n",
    "\n",
    "weekday=weekdata_index\n",
    "for i in total_holiday:\n",
    "    weekday.remove(i)"
   ]
  },
  {
   "cell_type": "raw",
   "metadata": {},
   "source": [
    "공휴일과 휴일의 날짜를 분리한다."
   ]
  },
  {
   "cell_type": "code",
   "execution_count": 4,
   "metadata": {},
   "outputs": [],
   "source": [
    "d = glob.glob('./유동인구데이터/성연령유동/*')\n",
    "a = glob.glob('./유동인구데이터/시간대유동/*')\n",
    "\n",
    "w = []\n",
    "g = []\n",
    "\n",
    "for f in d:\n",
    "    temp = pd.read_csv(f, sep='|')\n",
    "    w.append(temp)\n",
    "    \n",
    "for f in a:\n",
    "    temp = pd.read_csv(f, sep='|')\n",
    "    g.append(temp)\n",
    "    \n",
    "age_data = pd.concat(w)\n",
    "time_data = pd.concat(g)\n",
    "age_data['HDONG_CD']= age_data['HDONG_CD']//100\n",
    "time_data['HDONG_CD']= time_data['HDONG_CD']//100\n",
    "age_data.drop('STD_YM', axis=1,inplace=True)\n",
    "time_data.drop('STD_YM', axis=1,inplace=True)"
   ]
  },
  {
   "cell_type": "markdown",
   "metadata": {},
   "source": [
    "1. 유동인구 데이터 파일들을 성별/시간대별로 합친다.\n",
    "2. 지역코드를 통일한다."
   ]
  },
  {
   "cell_type": "code",
   "execution_count": null,
   "metadata": {},
   "outputs": [],
   "source": [
    "data= pd.read_csv('./CARD_SPENDING.txt', sep='\\t')\n",
    "data['GU_CD'] = data['GU_CD'] + 11000\n",
    "data['GU_CD'] = data['GU_CD'] * 1000\n",
    "data['GU_CD']= data['GU_CD'] + data['DONG_CD']\n",
    "data = data.drop('DONG_CD', axis = 1)"
   ]
  },
  {
   "cell_type": "markdown",
   "metadata": {},
   "source": [
    "카드데이터를 불러오고 지역정보를 통일한다."
   ]
  },
  {
   "cell_type": "code",
   "execution_count": null,
   "metadata": {},
   "outputs": [],
   "source": [
    "time_data['STD_YMD']=time_data['STD_YMD']*100\n",
    "exist_weather_location=[]\n",
    "for i in list(time_data['HDONG_CD'].unique()) :\n",
    "    if i in list(location_weather.keys()):\n",
    "        exist_weather_location.append(i)\n",
    "total_exist_location={}\n",
    "for i in  exist_weather_location:\n",
    "    total_exist_location[i]=location_weather[i]"
   ]
  },
  {
   "cell_type": "markdown",
   "metadata": {},
   "source": [
    "기상데이터의 지역정보와 유동인구데이터의 지역정보가 둘 다있는 경우\n",
    "미세먼지관한 정보를 딕셔너리로 저장"
   ]
  },
  {
   "cell_type": "code",
   "execution_count": null,
   "metadata": {},
   "outputs": [],
   "source": [
    "def hoilday_location(location):   \n",
    "    holiday_location=[]\n",
    "    for i in range(len(location['STD_YMD'])):\n",
    "        if location.iloc[i]['STD_YMD']//100 in total_holiday:\n",
    "            holiday_location.append(1)\n",
    "        else:\n",
    "            holiday_location.append(0)\n",
    "    location['holiday']=holiday_location\n",
    "    return location"
   ]
  },
  {
   "cell_type": "markdown",
   "metadata": {},
   "source": [
    "해당 행정동 데이터에 휴일 정보 추가"
   ]
  },
  {
   "cell_type": "code",
   "execution_count": null,
   "metadata": {},
   "outputs": [],
   "source": [
    "def location_amount(location_num):     \n",
    "    total_exist_time=[]\n",
    "    test = time_data[time_data['HDONG_CD']==location_num]\n",
    "    for i in range(len(test)):\n",
    "        for j in range(24):\n",
    "            if j<10:\n",
    "                total_exist_time.append([test.iloc[i]['STD_YMD']+j,test.iloc[i]['TMST_0'+str(j)]])\n",
    "            else :\n",
    "                total_exist_time.append([test.iloc[i]['STD_YMD']+j,test.iloc[i]['TMST_'+str(j)]])\n",
    "    total_exist_time=np.array(total_exist_time)\n",
    "\n",
    "    final=[]\n",
    "    for i in range(len(total_exist_time[:,0])):\n",
    "        if int(total_exist_time[i,0]) in list(total_exist_location[location_num]['tm']):\n",
    "            d = total_exist_location[location_num][total_exist_location[location_num]['tm']==total_exist_time[i,0]]\n",
    "            final.append([int(total_exist_time[i,0]), d['pm10'], d['pm25'],total_exist_time[i,1]])\n",
    "    k = pd.DataFrame(final, columns=['STD_YMD','pm10','pm25','amount'])\n",
    "    k['pm10'] =np.float64(k['pm10'])\n",
    "    k['pm25'] =np.float64(k['pm25'])\n",
    "    hoilday_location(k)\n",
    "    return k"
   ]
  },
  {
   "cell_type": "markdown",
   "metadata": {},
   "source": [
    "유동인구의 행정동과 환경 데이터의 행정동 정보가 둘 다 있는 경우 데이터 합치기"
   ]
  },
  {
   "cell_type": "code",
   "execution_count": null,
   "metadata": {},
   "outputs": [],
   "source": [
    "for i in list(total_exist_location.keys()):            \n",
    "    location_amount(i).to_csv('./'+str(i)+'데이터.csv')"
   ]
  },
  {
   "cell_type": "markdown",
   "metadata": {},
   "source": [
    "행정동별 파일 생성"
   ]
  },
  {
   "cell_type": "code",
   "execution_count": null,
   "metadata": {},
   "outputs": [],
   "source": [
    "time_data['STD_YMD']=time_data['STD_YMD']//100\n",
    "\n",
    "amount_1111 = time_data[time_data['HDONG_CD']//10000 == 1111]\n",
    "amount_1135 = time_data[time_data['HDONG_CD']//10000 == 1135]\n",
    "\n",
    "amount_1111_detail = list(amount_1111['HDONG_NM'].unique())\n",
    "amount_1135_detail = list(amount_1135['HDONG_NM'].unique())"
   ]
  },
  {
   "cell_type": "markdown",
   "metadata": {},
   "source": [
    "종로구와 노원구를 나눔"
   ]
  },
  {
   "cell_type": "code",
   "execution_count": null,
   "metadata": {},
   "outputs": [],
   "source": [
    "amount_1111_detail_holiday={}          ## 지역별 주말/평일 시간대별 유동인구 \n",
    "amount_1111_detail_weekday={}\n",
    "amount_1135_detail_holiday={}\n",
    "amount_1135_detail_weekday={}\n",
    "\n",
    "for k in amount_1111_detail:\n",
    "    holi_case=[]\n",
    "    week_case=[]\n",
    "    for i in range(365):\n",
    "        if amount_1111[amount_1111['HDONG_NM']==k]['STD_YMD'].iloc[i] in total_holiday:\n",
    "            holi_case.append(amount_1111[amount_1111['HDONG_NM']==k].iloc[i])\n",
    "        else:\n",
    "            week_case.append(amount_1111[amount_1111['HDONG_NM']==k].iloc[i])\n",
    "    amount_1111_detail_holiday[k]=pd.DataFrame(holi_case)\n",
    "    amount_1111_detail_weekday[k]=pd.DataFrame(week_case)\n",
    "    \n",
    "for k in amount_1135_detail:\n",
    "    holi_case=[]\n",
    "    week_case=[]\n",
    "    for i in range(365):\n",
    "        if amount_1135[amount_1135['HDONG_NM']==k]['STD_YMD'].iloc[i] in total_holiday:\n",
    "            holi_case.append(amount_1135[amount_1135['HDONG_NM']==k].iloc[i])\n",
    "        else:\n",
    "            week_case.append(amount_1135[amount_1135['HDONG_NM']==k].iloc[i])\n",
    "    amount_1135_detail_holiday[k]=pd.DataFrame(holi_case)\n",
    "    amount_1135_detail_weekday[k]=pd.DataFrame(week_case)"
   ]
  },
  {
   "cell_type": "markdown",
   "metadata": {},
   "source": [
    "지역별 주말/평일 시간대별 유동인구 "
   ]
  },
  {
   "cell_type": "code",
   "execution_count": null,
   "metadata": {},
   "outputs": [],
   "source": [
    "month= [20180401,20180501,20180601,20180701,20180801,20180901,20181001,20181101,20181201,20190101,20190201,20190301,20190401]"
   ]
  },
  {
   "cell_type": "code",
   "execution_count": null,
   "metadata": {},
   "outputs": [],
   "source": [
    "def monthly_info(location) :  \n",
    "    monthly_location = {}\n",
    "    location = location.drop('HDONG_CD', axis=1)\n",
    "    month_order = [4,5,6,7,8,9,10,11,12,1,2,3]\n",
    "    for i in range(len(month)-1):\n",
    "        amount = location[(location['STD_YMD']<month[i+1]) & (location['STD_YMD']>=month[i])].mean()\n",
    "        amount.drop('STD_YMD', inplace=True)\n",
    "        monthly_location[month_order[i]]=amount\n",
    "    return monthly_location"
   ]
  },
  {
   "cell_type": "markdown",
   "metadata": {},
   "source": [
    "월별 유동인구 정보"
   ]
  },
  {
   "cell_type": "code",
   "execution_count": null,
   "metadata": {
    "scrolled": true
   },
   "outputs": [],
   "source": [
    "for j in list(amount_1111_detail_holiday.keys()):\n",
    "    info_holi = monthly_info(amount_1111_detail_holiday[j])\n",
    "    info_week = monthly_info(amount_1111_detail_weekday[j])\n",
    "    plt.figure(figsize=(15,5))\n",
    "    plt.subplot(1,2,1)\n",
    "    for i in range(12):\n",
    "        info_holi[i+1].plot()\n",
    "    plt.legend([1,2,3,4,5,6,7,8,9,10,11,12])\n",
    "    plt.title(j+'_주말 시간대별 유동인구(월별)' , fontproperties=fontprop)\n",
    "    plt.subplot(1,2,2)\n",
    "    for i in range(12):\n",
    "        info_week[i+1].plot(title = 'weekday')\n",
    "    plt.legend([1,2,3,4,5,6,7,8,9,10,11,12])\n",
    "    plt.title(j+'_평일 시간대별 유동인구(월별)' , fontproperties=fontprop)"
   ]
  },
  {
   "cell_type": "markdown",
   "metadata": {},
   "source": [
    "월별 주말/평일 유동인구  종로구"
   ]
  },
  {
   "cell_type": "code",
   "execution_count": null,
   "metadata": {
    "scrolled": true
   },
   "outputs": [],
   "source": [
    "for j in list(amount_1135_detail_holiday.keys()):\n",
    "    info_holi = monthly_info(amount_1135_detail_holiday[j])\n",
    "    info_week = monthly_info(amount_1135_detail_weekday[j])\n",
    "    plt.figure(figsize=(15,5))\n",
    "    plt.subplot(1,2,1)\n",
    "    for i in range(12):\n",
    "        info_holi[i+1].plot()\n",
    "    plt.legend([1,2,3,4,5,6,7,8,9,10,11,12])\n",
    "    plt.title(j+'_주말 시간대별 유동인구(월별)' , fontproperties=fontprop)\n",
    "    plt.subplot(1,2,2)\n",
    "    for i in range(12):\n",
    "        info_week[i+1].plot(title = 'weekday')\n",
    "    plt.legend([1,2,3,4,5,6,7,8,9,10,11,12])\n",
    "    plt.title(j+'_평일 시간대별 유동인구(월별)' , fontproperties=fontprop)"
   ]
  },
  {
   "cell_type": "markdown",
   "metadata": {},
   "source": [
    "월별 주말/평일 유동인구  노원구"
   ]
  },
  {
   "cell_type": "code",
   "execution_count": null,
   "metadata": {},
   "outputs": [],
   "source": [
    "card_종로 = data[data['GU_CD']//10000 == 1111]\n",
    "card_노원 = data[data['GU_CD']//10000 == 1135]\n",
    "card_종로_품목별 = {}\n",
    "card_노원_품목별 = {}\n",
    "\n",
    "for i in list(card_종로['MCT_CAT_CD'].unique()):\n",
    "    card_종로_품목별[i] = card_종로[card_종로['MCT_CAT_CD']==i].groupby('STD_DD')['USE_CNT','USE_AMT'].sum()\n",
    "\n",
    "for i in list(card_노원['MCT_CAT_CD'].unique()):\n",
    "    card_노원_품목별[i] = card_노원[card_노원['MCT_CAT_CD']==i].groupby('STD_DD')['USE_CNT','USE_AMT'].sum()"
   ]
  },
  {
   "cell_type": "markdown",
   "metadata": {},
   "source": [
    "종로/노원 지역별 매출, 결제횟수 평균을 딕셔너리로 저장"
   ]
  },
  {
   "cell_type": "code",
   "execution_count": null,
   "metadata": {
    "scrolled": true
   },
   "outputs": [],
   "source": [
    "plt.figure(figsize=(15,5))\n",
    "plt.subplot(1,2,1)\n",
    "for i in list(card_종로_품목별.keys()):\n",
    "    plt.bar(str(i),card_종로_품목별[i]['USE_AMT'].sum())\n",
    "plt.title('종로구 품목별 매출' , fontproperties=fontprop)\n",
    "plt.ylabel('amount')\n",
    "plt.xlabel('code')\n",
    "\n",
    "plt.subplot(1,2,2)\n",
    "for i in list(card_종로_품목별.keys()):\n",
    "    plt.bar(str(i),card_종로_품목별[i]['USE_CNT'].sum())\n",
    "plt.title('종로구 품목별 결제횟수' , fontproperties=fontprop)\n",
    "plt.ylabel('count')\n",
    "plt.xlabel('code')\n",
    "\n",
    "plt.figure(figsize=(15,5))\n",
    "plt.subplot(1,2,1)\n",
    "for i in list(card_노원_품목별.keys()):\n",
    "    plt.bar(str(i),card_노원_품목별[i]['USE_AMT'].sum())\n",
    "plt.title('노원구 품목별 매출' , fontproperties=fontprop)\n",
    "plt.ylabel('amount')\n",
    "plt.xlabel('code')\n",
    "\n",
    "plt.subplot(1,2,2)\n",
    "for i in list(card_노원_품목별.keys()):\n",
    "    plt.bar(str(i),card_노원_품목별[i]['USE_CNT'].sum())\n",
    "plt.title('노원구 품목별 결제횟수' , fontproperties=fontprop)\n",
    "plt.ylabel('count')\n",
    "plt.xlabel('code')\n"
   ]
  },
  {
   "cell_type": "code",
   "execution_count": null,
   "metadata": {
    "scrolled": true
   },
   "outputs": [],
   "source": [
    "weather_종로 = weather[weather['serial']//10000 == 1111]\n",
    "weather_노원 = weather[weather['serial']//10000 == 1135]\n",
    "weather_종로['tm']=  weather_종로['tm']//100\n",
    "weather_노원['tm']=  weather_노원['tm']//100"
   ]
  },
  {
   "cell_type": "markdown",
   "metadata": {},
   "source": [
    "지역별 날씨 구분"
   ]
  },
  {
   "cell_type": "code",
   "execution_count": null,
   "metadata": {},
   "outputs": [],
   "source": [
    "def monthly_pm_info(location) :  #월별 미세먼지 평균\n",
    "    monthly_location = []\n",
    "    monthly_location = []\n",
    "    month_order = [4,5,6,7,8,9,10,11,12,1,2,3]\n",
    "    for i in range(len(month)-1):\n",
    "        amount = location[(location['tm']<month[i+1]) & (location['tm']>=month[i])].mean()\n",
    "        amount = amount.drop('tm')\n",
    "        monthly_location.append([str(month_order[i]) , amount])\n",
    "    return monthly_location"
   ]
  },
  {
   "cell_type": "markdown",
   "metadata": {},
   "source": [
    "  #월별 미세먼지 평균"
   ]
  },
  {
   "cell_type": "code",
   "execution_count": null,
   "metadata": {},
   "outputs": [],
   "source": [
    "pm_종로_월별_평균 =  monthly_pm_info(weather_종로.groupby('tm')['pm10','pm25'].mean().reset_index())\n",
    "pm_노원_월별_평균 =  monthly_pm_info(weather_노원.groupby('tm')['pm10','pm25'].mean().reset_index())"
   ]
  },
  {
   "cell_type": "code",
   "execution_count": null,
   "metadata": {
    "scrolled": true
   },
   "outputs": [],
   "source": [
    "\n",
    "plt.figure(figsize=(15,5))\n",
    "plt.subplot(1,2,1)\n",
    "month_info=[]\n",
    "month_pm10_종로=[]\n",
    "month_pm25_종로=[]\n",
    "month_pm10_노원=[]\n",
    "month_pm25_노원=[]\n",
    "for i in pm_종로_월별_평균:\n",
    "    month_info.append(i[0])\n",
    "    month_pm10_종로.append(i[1]['pm10'])\n",
    "    month_pm25_종로.append(i[1]['pm25'])\n",
    "for i in pm_노원_월별_평균:\n",
    "    month_pm10_노원.append(i[1]['pm10'])\n",
    "    month_pm25_노원.append(i[1]['pm25'])\n",
    "plt.plot(month_info, month_pm10_종로, color='tomato')\n",
    "plt.plot(month_info, month_pm10_노원, color='steelblue')\n",
    "plt.title('pm10')\n",
    "plt.legend(['Jong','Nowon'])\n",
    "plt.xlabel('month')\n",
    "plt.subplot(1,2,2)\n",
    "plt.title('pm25')\n",
    "plt.plot(month_info, month_pm25_종로, color='tomato')\n",
    "plt.plot(month_info, month_pm25_노원, color='steelblue')\n",
    "plt.legend(['Jong','Nowon'])\n",
    "plt.xlabel('month')\n"
   ]
  },
  {
   "cell_type": "markdown",
   "metadata": {},
   "source": [
    "월별 미세먼지 평균 농도"
   ]
  },
  {
   "cell_type": "code",
   "execution_count": null,
   "metadata": {},
   "outputs": [],
   "source": [
    "def pm_amount_1111_graph(code):\n",
    "    name = time_data[time_data['HDONG_CD']==code]['HDONG_NM'].iloc[0]\n",
    "    amount_행정동_휴일 = amount_1111_detail_holiday[name].drop(['HDONG_CD','HDONG_NM'], axis=1)\n",
    "    amount_행정동_평일 = amount_1111_detail_weekday[name].drop(['HDONG_CD','HDONG_NM'], axis=1)\n",
    "    pm_행정동 = location_weather[time_data[time_data['HDONG_NM']==name]['HDONG_CD'].unique()[0]]\n",
    "    pm_행정동['tm'] = pm_행정동['tm']//100\n",
    "    pm_행정동  = pm_행정동.groupby('tm')['pm10','pm25'].mean().reset_index()\n",
    "\n",
    "    pm_high_date=[]\n",
    "    pm_middle_date=[]\n",
    "    pm_low_date=[]\n",
    "    for i in list(pm_행정동.index):\n",
    "        if pm_행정동.loc[i]['pm10'] > 80 or pm_행정동.loc[i]['pm25'] > 35:\n",
    "             pm_high_date.append(int(pm_행정동.loc[i]['tm']))\n",
    "        elif pm_행정동.loc[i]['pm10'] < 30 and pm_행정동.loc[i]['pm25'] < 15:\n",
    "             pm_low_date.append(int(pm_행정동.loc[i]['tm']))\n",
    "        else: \n",
    "             pm_middle_date.append(int(pm_행정동.loc[i]['tm']))\n",
    "                                   \n",
    "    pm_high_holiday = []\n",
    "    pm_middle_holiday = []\n",
    "    pm_low_holiday = []\n",
    "    \n",
    "    for i in total_holiday:\n",
    "        if i in list(pm_high_date):\n",
    "            pm_high_holiday.append(i)\n",
    "        elif i in list(pm_middle_date):    \n",
    "            pm_middle_holiday.append(i)\n",
    "        elif i in list(pm_low_date):\n",
    "            pm_low_holiday.append(i)\n",
    "\n",
    "    pm_high_weekday = []\n",
    "    pm_middle_weekday = []\n",
    "    pm_low_weekday = []\n",
    "    \n",
    "    for i in weekday:\n",
    "        if i in list(pm_high_date):\n",
    "            pm_high_weekday.append(i)\n",
    "        elif i in list(pm_middle_date):    \n",
    "            pm_middle_weekday.append(i)\n",
    "        elif i in list(pm_low_date):\n",
    "            pm_low_weekday.append(i)\n",
    "\n",
    "    pm_high_amount_weekday= []\n",
    "    pm_middle_amount_weekday= []\n",
    "    pm_low_amount_weekday= []\n",
    "    pm_high_amount_holiday= []\n",
    "    pm_middle_amount_holiday= []\n",
    "    pm_low_amount_holiday= []\n",
    "\n",
    "    for i in pm_high_weekday:\n",
    "        pm_high_amount_weekday.append(amount_행정동_평일[amount_행정동_평일['STD_YMD']==i])\n",
    "    for i in pm_middle_weekday:\n",
    "        pm_middle_amount_weekday.append(amount_행정동_평일[amount_행정동_평일['STD_YMD']==i])\n",
    "    for i in pm_low_weekday:\n",
    "        pm_low_amount_weekday.append(amount_행정동_평일[amount_행정동_평일['STD_YMD']==i])\n",
    "\n",
    "    for i in pm_high_holiday:\n",
    "        pm_high_amount_holiday.append(amount_행정동_휴일[amount_행정동_휴일['STD_YMD']==i])\n",
    "    for i in pm_middle_holiday:\n",
    "        pm_middle_amount_holiday.append(amount_행정동_휴일[amount_행정동_휴일['STD_YMD']==i])\n",
    "    for i in pm_low_holiday:\n",
    "        pm_low_amount_holiday.append(amount_행정동_휴일[amount_행정동_휴일['STD_YMD']==i])\n",
    "\n",
    "    pm_high_amount_weekday= pd.concat(pm_high_amount_weekday)\n",
    "    pm_middle_amount_weekday= pd.concat(pm_middle_amount_weekday)\n",
    "    pm_low_amount_weekday= pd.concat(pm_low_amount_weekday)\n",
    "    pm_high_amount_holiday= pd.concat(pm_high_amount_holiday)\n",
    "    pm_middle_amount_holiday=pd.concat(pm_middle_amount_holiday)\n",
    "    pm_low_amount_holiday= pd.concat(pm_low_amount_holiday)\n",
    "    \n",
    "    pm_high_amount_holiday = pm_high_amount_holiday.drop('STD_YMD',axis=1)\n",
    "    pm_middle_amount_holiday = pm_middle_amount_holiday.drop('STD_YMD',axis=1)\n",
    "    pm_low_amount_holiday = pm_low_amount_holiday.drop('STD_YMD',axis=1)\n",
    "    pm_high_amount_weekday = pm_high_amount_weekday.drop('STD_YMD',axis=1)\n",
    "    pm_middle_amount_weekday = pm_middle_amount_weekday.drop('STD_YMD',axis=1)\n",
    "    pm_low_amount_weekday = pm_low_amount_weekday.drop('STD_YMD',axis=1)\n",
    "    plt.figure(figsize=(15,5))\n",
    "    plt.subplot(1,2,1)\n",
    "    pm_high_amount_holiday.mean().plot()\n",
    "    pm_middle_amount_holiday.mean().plot()\n",
    "    pm_low_amount_holiday.mean().plot()\n",
    "    plt.title(name+' 휴일 시간대별 유동인구' , fontproperties=fontprop)\n",
    "    plt.legend(['high', 'middle','low'])\n",
    "    plt.subplot(1,2,2)\n",
    "    pm_high_amount_weekday.mean().plot()\n",
    "    pm_middle_amount_weekday.mean().plot()\n",
    "    pm_low_amount_weekday.mean().plot()\n",
    "    plt.title(name+' 평일 시간대별 유동인구' , fontproperties=fontprop)\n",
    "    plt.legend(['high', 'middle','low'])"
   ]
  },
  {
   "cell_type": "markdown",
   "metadata": {},
   "source": [
    "종로구 휴일, 평일 시간대별 유동인구 시각화 함수"
   ]
  },
  {
   "cell_type": "code",
   "execution_count": null,
   "metadata": {},
   "outputs": [],
   "source": [
    "def pm_amount_1135_graph(code):\n",
    "    name = time_data[time_data['HDONG_CD']==code]['HDONG_NM'].iloc[0]\n",
    "    amount_행정동_휴일 = amount_1135_detail_holiday[name].drop(['HDONG_CD','HDONG_NM'], axis=1)\n",
    "    amount_행정동_평일 = amount_1135_detail_weekday[name].drop(['HDONG_CD','HDONG_NM'], axis=1)\n",
    "    pm_행정동 = location_weather[time_data[time_data['HDONG_NM']==name]['HDONG_CD'].unique()[0]]\n",
    "    pm_행정동['tm'] = pm_행정동['tm']//100\n",
    "    pm_행정동  = pm_행정동.groupby('tm')['pm10','pm25'].mean().reset_index()\n",
    "\n",
    "    pm_high_date=[]\n",
    "    pm_middle_date=[]\n",
    "    pm_low_date=[]\n",
    "    for i in list(pm_행정동.index):\n",
    "        if pm_행정동.loc[i]['pm10'] > 80 or pm_행정동.loc[i]['pm25'] > 35:\n",
    "             pm_high_date.append(int(pm_행정동.loc[i]['tm']))\n",
    "        elif pm_행정동.loc[i]['pm10'] < 30 and pm_행정동.loc[i]['pm25'] < 15:\n",
    "             pm_low_date.append(int(pm_행정동.loc[i]['tm']))\n",
    "        else: \n",
    "             pm_middle_date.append(int(pm_행정동.loc[i]['tm']))\n",
    "                                   \n",
    "    pm_high_holiday = []\n",
    "    pm_middle_holiday = []\n",
    "    pm_low_holiday = []\n",
    "    \n",
    "    for i in total_holiday:\n",
    "        if i in list(pm_high_date):\n",
    "            pm_high_holiday.append(i)\n",
    "        elif i in list(pm_middle_date):    \n",
    "            pm_middle_holiday.append(i)\n",
    "        elif i in list(pm_low_date):\n",
    "            pm_low_holiday.append(i)\n",
    "\n",
    "    pm_high_weekday = []\n",
    "    pm_middle_weekday = []\n",
    "    pm_low_weekday = []\n",
    "    \n",
    "    for i in weekday:\n",
    "        if i in list(pm_high_date):\n",
    "            pm_high_weekday.append(i)\n",
    "        elif i in list(pm_middle_date):    \n",
    "            pm_middle_weekday.append(i)\n",
    "        elif i in list(pm_low_date):\n",
    "            pm_low_weekday.append(i)\n",
    "\n",
    "    pm_high_amount_weekday= []\n",
    "    pm_middle_amount_weekday= []\n",
    "    pm_low_amount_weekday= []\n",
    "    pm_high_amount_holiday= []\n",
    "    pm_middle_amount_holiday= []\n",
    "    pm_low_amount_holiday= []\n",
    "\n",
    "    for i in pm_high_weekday:\n",
    "        pm_high_amount_weekday.append(amount_행정동_평일[amount_행정동_평일['STD_YMD']==i])\n",
    "    for i in pm_middle_weekday:\n",
    "        pm_middle_amount_weekday.append(amount_행정동_평일[amount_행정동_평일['STD_YMD']==i])\n",
    "    for i in pm_low_weekday:\n",
    "        pm_low_amount_weekday.append(amount_행정동_평일[amount_행정동_평일['STD_YMD']==i])\n",
    "\n",
    "    for i in pm_high_holiday:\n",
    "        pm_high_amount_holiday.append(amount_행정동_휴일[amount_행정동_휴일['STD_YMD']==i])\n",
    "    for i in pm_middle_holiday:\n",
    "        pm_middle_amount_holiday.append(amount_행정동_휴일[amount_행정동_휴일['STD_YMD']==i])\n",
    "    for i in pm_low_holiday:\n",
    "        pm_low_amount_holiday.append(amount_행정동_휴일[amount_행정동_휴일['STD_YMD']==i])\n",
    "\n",
    "    pm_high_amount_weekday= pd.concat(pm_high_amount_weekday)\n",
    "    pm_middle_amount_weekday= pd.concat(pm_middle_amount_weekday)\n",
    "    pm_low_amount_weekday= pd.concat(pm_low_amount_weekday)\n",
    "    pm_high_amount_holiday= pd.concat(pm_high_amount_holiday)\n",
    "    pm_middle_amount_holiday=pd.concat(pm_middle_amount_holiday)\n",
    "    pm_low_amount_holiday= pd.concat(pm_low_amount_holiday)\n",
    "    \n",
    "    pm_high_amount_holiday = pm_high_amount_holiday.drop('STD_YMD',axis=1)\n",
    "    pm_middle_amount_holiday = pm_middle_amount_holiday.drop('STD_YMD',axis=1)\n",
    "    pm_low_amount_holiday = pm_low_amount_holiday.drop('STD_YMD',axis=1)\n",
    "    pm_high_amount_weekday = pm_high_amount_weekday.drop('STD_YMD',axis=1)\n",
    "    pm_middle_amount_weekday = pm_middle_amount_weekday.drop('STD_YMD',axis=1)\n",
    "    pm_low_amount_weekday = pm_low_amount_weekday.drop('STD_YMD',axis=1)\n",
    "    plt.figure(figsize=(15,5))\n",
    "    plt.subplot(1,2,1)\n",
    "    pm_high_amount_holiday.mean().plot(color='steelblue')\n",
    "    pm_middle_amount_holiday.mean().plot(color='darkorange')\n",
    "    pm_low_amount_holiday.mean().plot(color='g')\n",
    "    plt.title(name+' 휴일 시간대별 유동인구' , fontproperties=fontprop)\n",
    "    plt.legend(['high', 'middle','low'])\n",
    "    plt.subplot(1,2,2)\n",
    "    pm_high_amount_weekday.mean().plot(color='steelblue')\n",
    "    pm_middle_amount_weekday.mean().plot(color='darkorange')\n",
    "    pm_low_amount_weekday.mean().plot(color='g')\n",
    "    plt.title(name+' 평일 시간대별 유동인구' , fontproperties=fontprop)\n",
    "    plt.legend(['high', 'middle','low'])"
   ]
  },
  {
   "cell_type": "markdown",
   "metadata": {},
   "source": [
    "노원구 휴일, 평일 시간대별 유동인구 시각화"
   ]
  },
  {
   "cell_type": "code",
   "execution_count": null,
   "metadata": {},
   "outputs": [],
   "source": [
    "exist_1111=[]\n",
    "exist_1135=[]\n",
    "\n",
    "for i in list(location_weather.keys()):\n",
    "    if i <11350000:\n",
    "        exist_1111.append(i)\n",
    "    else:\n",
    "        exist_1135.append(i)"
   ]
  },
  {
   "cell_type": "code",
   "execution_count": null,
   "metadata": {
    "scrolled": true
   },
   "outputs": [],
   "source": [
    "for i in exist_1111:\n",
    "    pm_amount_1111_graph(i)"
   ]
  },
  {
   "cell_type": "markdown",
   "metadata": {},
   "source": [
    "시각화"
   ]
  },
  {
   "cell_type": "code",
   "execution_count": null,
   "metadata": {},
   "outputs": [],
   "source": [
    "for k in exist_1135:\n",
    "    pm_행정동 = location_weather[k]\n",
    "    pm_행정동['tm'] = pm_행정동['tm']//100\n",
    "    pm_행정동  = pm_행정동.groupby('tm')['pm10','pm25'].mean().reset_index()\n",
    "\n",
    "    pm_high_date=[]\n",
    "    pm_middle_date=[]\n",
    "    pm_low_date=[]\n",
    "    for i in list(pm_행정동.index):\n",
    "        if pm_행정동.loc[i]['pm10'] > 80 or pm_행정동.loc[i]['pm25'] > 35:\n",
    "            pm_high_date.append(int(pm_행정동.loc[i]['tm']))\n",
    "        elif pm_행정동.loc[i]['pm10'] < 30 and pm_행정동.loc[i]['pm25'] < 15:\n",
    "            pm_low_date.append(int(pm_행정동.loc[i]['tm']))\n",
    "        else: \n",
    "            pm_middle_date.append(int(pm_행정동.loc[i]['tm']))\n",
    "                                   \n",
    "    pm_high_holiday = []\n",
    "    pm_middle_holiday = []\n",
    "    pm_low_holiday = []\n",
    "\n",
    "    name = time_data[time_data['HDONG_CD']==k]['HDONG_NM'].iloc[0]\n",
    "    amount_행정동_휴일 = amount_1135_detail_holiday[name].drop(['HDONG_CD','HDONG_NM'], axis=1)\n",
    "    amount_행정동_평일 = amount_1135_detail_weekday[name].drop(['HDONG_CD','HDONG_NM'], axis=1)\n",
    "  \n",
    "    for i in total_holiday:\n",
    "        if i in list(pm_high_date):\n",
    "            pm_high_holiday.append(i)\n",
    "        elif i in list(pm_middle_date):    \n",
    "            pm_middle_holiday.append(i)\n",
    "        elif i in list(pm_low_date):\n",
    "            pm_low_holiday.append(i)\n",
    "\n",
    "    pm_high_weekday = []\n",
    "    pm_middle_weekday = []\n",
    "    pm_low_weekday = []\n",
    "    \n",
    "    for i in weekday:\n",
    "        if i in list(pm_high_date):\n",
    "            pm_high_weekday.append(i)\n",
    "        elif i in list(pm_middle_date):    \n",
    "            pm_middle_weekday.append(i)\n",
    "        elif i in list(pm_low_date):\n",
    "            pm_low_weekday.append(i)\n",
    "\n",
    "    pm_high_amount_weekday= []\n",
    "    pm_middle_amount_weekday= []\n",
    "    pm_low_amount_weekday= []\n",
    "    pm_high_amount_holiday= []\n",
    "    pm_middle_amount_holiday= []\n",
    "    pm_low_amount_holiday= []\n",
    "\n",
    "    for i in pm_high_weekday:\n",
    "        pm_high_amount_weekday.append(amount_행정동_평일[amount_행정동_평일['STD_YMD']==i])\n",
    "    for i in pm_middle_weekday:\n",
    "        pm_middle_amount_weekday.append(amount_행정동_평일[amount_행정동_평일['STD_YMD']==i])\n",
    "    for i in pm_low_weekday:\n",
    "        pm_low_amount_weekday.append(amount_행정동_평일[amount_행정동_평일['STD_YMD']==i])\n",
    "\n",
    "    for i in pm_high_holiday:\n",
    "        pm_high_amount_holiday.append(amount_행정동_휴일[amount_행정동_휴일['STD_YMD']==i])\n",
    "    for i in pm_middle_holiday:\n",
    "        pm_middle_amount_holiday.append(amount_행정동_휴일[amount_행정동_휴일['STD_YMD']==i])\n",
    "    for i in pm_low_holiday:\n",
    "        pm_low_amount_holiday.append(amount_행정동_휴일[amount_행정동_휴일['STD_YMD']==i])\n",
    "\n",
    "    pm_high_amount_weekday= pd.concat(pm_high_amount_weekday)\n",
    "    pm_middle_amount_weekday= pd.concat(pm_middle_amount_weekday)\n",
    "    pm_low_amount_weekday= pd.concat(pm_low_amount_weekday)\n",
    "    pm_high_amount_holiday= pd.concat(pm_high_amount_holiday)\n",
    "    pm_middle_amount_holiday=pd.concat(pm_middle_amount_holiday)\n",
    "    pm_low_amount_holiday= pd.concat(pm_low_amount_holiday)\n",
    "    \n",
    "    pm_high_amount_holiday = pm_high_amount_holiday.drop('STD_YMD',axis=1)\n",
    "    pm_middle_amount_holiday = pm_middle_amount_holiday.drop('STD_YMD',axis=1)\n",
    "    pm_low_amount_holiday = pm_low_amount_holiday.drop('STD_YMD',axis=1)\n",
    "    pm_high_amount_weekday = pm_high_amount_weekday.drop('STD_YMD',axis=1)\n",
    "    pm_middle_amount_weekday = pm_middle_amount_weekday.drop('STD_YMD',axis=1)\n",
    "    pm_low_amount_weekday = pm_low_amount_weekday.drop('STD_YMD',axis=1)\n",
    "    plt.figure(figsize=(15,5))\n",
    "    plt.subplot(1,2,1)\n",
    "    pm_high_amount_holiday.mean().plot()\n",
    "    pm_middle_amount_holiday.mean().plot()\n",
    "    pm_low_amount_holiday.mean().plot()\n",
    "    plt.title(name+' 휴일 시간대별 유동인구' , fontproperties=fontprop)\n",
    "    plt.legend(['high', 'middle','low'])\n",
    "    plt.subplot(1,2,2)\n",
    "    pm_high_amount_weekday.mean().plot()\n",
    "    pm_middle_amount_weekday.mean().plot()\n",
    "    pm_low_amount_weekday.mean().plot()\n",
    "    plt.title(name+' 평일 시간대별 유동인구' , fontproperties=fontprop)\n",
    "    plt.legend(['high', 'middle','low'])"
   ]
  },
  {
   "cell_type": "markdown",
   "metadata": {},
   "source": [
    "시각화"
   ]
  },
  {
   "cell_type": "code",
   "execution_count": null,
   "metadata": {},
   "outputs": [],
   "source": [
    "amount_가회동 = data[data['GU_CD']==11110600].groupby('MCT_CAT_CD')['USE_CNT'].sum()\n",
    "amount_부암동 = data[data['GU_CD']==11110550].groupby('MCT_CAT_CD')['USE_CNT'].sum()\n",
    "amount_사직동 = data[data['GU_CD']==11110530].groupby('MCT_CAT_CD')['USE_CNT'].sum()"
   ]
  },
  {
   "cell_type": "markdown",
   "metadata": {},
   "source": [
    "가회동, 부암동, 사직동 결제횟수 통계"
   ]
  },
  {
   "cell_type": "code",
   "execution_count": null,
   "metadata": {},
   "outputs": [],
   "source": [
    "amount_숭인2동 = data[data['GU_CD']==11110710].groupby('MCT_CAT_CD')['USE_CNT'].sum()\n",
    "amount_이화동 = data[data['GU_CD']==11110640].groupby('MCT_CAT_CD')['USE_CNT'].sum()\n",
    "amount_종로5_6가동 = data[data['GU_CD']==11110630].groupby('MCT_CAT_CD')['USE_CNT'].sum()\n",
    "amount_창신1동 = data[data['GU_CD']==11110670].groupby('MCT_CAT_CD')['USE_CNT'].sum()\n",
    "amount_창신3동 = data[data['GU_CD']==11110690].groupby('MCT_CAT_CD')['USE_CNT'].sum()"
   ]
  },
  {
   "cell_type": "markdown",
   "metadata": {},
   "source": [
    "숭인2동, 이화동, 종로5,6가동, 창신1동, 창신3동 결제횟수 통계"
   ]
  },
  {
   "cell_type": "code",
   "execution_count": null,
   "metadata": {},
   "outputs": [],
   "source": [
    "plt.figure(figsize=(13,18))\n",
    "plt.subplot(3,2,1)\n",
    "amount_숭인2동.sort_values(ascending=False).plot.bar()\n",
    "plt.title('숭인2동 결제횟수' , fontproperties=fontprop)\n",
    "plt.subplot(3,2,2)\n",
    "amount_이화동.sort_values(ascending=False).plot.bar()\n",
    "plt.title('이화동 결제횟수' , fontproperties=fontprop)\n",
    "\n",
    "plt.subplot(3,2,3)\n",
    "amount_종로5_6가동.sort_values(ascending=False).plot.bar()\n",
    "plt.title('종로5,6가동 결제횟수' , fontproperties=fontprop)\n",
    "\n",
    "plt.subplot(3,2,4)\n",
    "amount_창신1동.sort_values(ascending=False).plot.bar()\n",
    "plt.title('창신1동 결제횟수' , fontproperties=fontprop)\n",
    "\n",
    "plt.subplot(3,2,5)\n",
    "amount_창신3동.sort_values(ascending=False).plot.bar()\n",
    "plt.title('창신3동 결제횟수' , fontproperties=fontprop)\n"
   ]
  },
  {
   "cell_type": "code",
   "execution_count": null,
   "metadata": {},
   "outputs": [],
   "source": [
    "plt.figure(figsize=(13,12))\n",
    "plt.subplot(2,2,1)\n",
    "amount_가회동.sort_values(ascending=False).plot.bar()\n",
    "plt.title('가회동 결제횟수' , fontproperties=fontprop)\n",
    "plt.subplot(2,2,2)\n",
    "amount_부암동.sort_values(ascending=False).plot.bar()\n",
    "plt.title('부암동 결제횟수' , fontproperties=fontprop)\n",
    "plt.subplot(2,2,3)\n",
    "amount_사직동.sort_values(ascending=False).plot.bar()\n",
    "plt.title('사직동 결제횟수' , fontproperties=fontprop)"
   ]
  },
  {
   "cell_type": "markdown",
   "metadata": {},
   "source": [
    "시각화"
   ]
  },
  {
   "cell_type": "code",
   "execution_count": null,
   "metadata": {},
   "outputs": [],
   "source": [
    "amount_중계본동 = data[data['GU_CD']==11350619].groupby('MCT_CAT_CD')['USE_CNT'].sum()\n",
    "amount_중계본동.sort_values(ascending=False).plot.bar()\n",
    "plt.title('중계본동 결제횟수' , fontproperties=fontprop)\n",
    "\n",
    "amount_공릉1동 = data[data['GU_CD']==11350595].groupby('MCT_CAT_CD')['USE_CNT'].sum()\n",
    "amount_상계3_4동 = data[data['GU_CD']==11350665].groupby('MCT_CAT_CD')['USE_CNT'].sum()\n",
    "amount_상계5동 = data[data['GU_CD']==11350670].groupby('MCT_CAT_CD')['USE_CNT'].sum()\n",
    "amount_상계10동 = data[data['GU_CD']==11350720].groupby('MCT_CAT_CD')['USE_CNT'].sum()\n",
    "amount_월계1동 = data[data['GU_CD']==11350560].groupby('MCT_CAT_CD')['USE_CNT'].sum()\n",
    "amount_하계1동 = data[data['GU_CD']==11350611].groupby('MCT_CAT_CD')['USE_CNT'].sum()\n"
   ]
  },
  {
   "cell_type": "markdown",
   "metadata": {},
   "source": [
    "노원구 결제횟수 통계"
   ]
  },
  {
   "cell_type": "code",
   "execution_count": null,
   "metadata": {},
   "outputs": [],
   "source": [
    "plt.figure(figsize=(13,18))\n",
    "plt.subplot(3,2,1)\n",
    "amount_공릉1동.sort_values(ascending=False).plot.bar()\n",
    "plt.title('공릉1동 결제횟수' , fontproperties=fontprop)\n",
    "plt.subplot(3,2,2)\n",
    "amount_상계3_4동.sort_values(ascending=False).plot.bar()\n",
    "plt.title('상계3,4동 결제횟수' , fontproperties=fontprop)\n",
    "\n",
    "plt.subplot(3,2,3)\n",
    "amount_상계5동.sort_values(ascending=False).plot.bar()\n",
    "plt.title('상계5동 결제횟수' , fontproperties=fontprop)\n",
    "\n",
    "plt.subplot(3,2,4)\n",
    "amount_상계10동.sort_values(ascending=False).plot.bar()\n",
    "plt.title('상계10동 결제횟수' , fontproperties=fontprop)\n",
    "\n",
    "plt.subplot(3,2,5)\n",
    "amount_월계1동.sort_values(ascending=False).plot.bar()\n",
    "plt.title('월계1동 결제횟수' , fontproperties=fontprop)\n",
    "\n",
    "plt.subplot(3,2,6)\n",
    "amount_하계1동.sort_values(ascending=False).plot.bar()\n",
    "plt.title('하계1동 결제횟수' , fontproperties=fontprop)\n"
   ]
  },
  {
   "cell_type": "markdown",
   "metadata": {},
   "source": [
    "시각화"
   ]
  },
  {
   "cell_type": "code",
   "execution_count": null,
   "metadata": {},
   "outputs": [],
   "source": [
    "plt.figure(figsize=(15,5))\n",
    "plt.subplot(1,2,1)\n",
    "data[data['GU_CD']==11110550].groupby('MCT_CAT_CD')['USE_AMT'].sum().sort_values(ascending=False).plot.bar()\n",
    "plt.title('부암동 결제총액' , fontproperties=fontprop)\n",
    "plt.subplot(1,2,2)\n",
    "data[data['GU_CD']==11110550].groupby('MCT_CAT_CD')['USE_CNT'].sum().sort_values(ascending=False).plot.bar()\n",
    "plt.title('부암동 결제횟수' , fontproperties=fontprop)"
   ]
  },
  {
   "cell_type": "markdown",
   "metadata": {},
   "source": [
    "부암동 매출 정보"
   ]
  },
  {
   "cell_type": "code",
   "execution_count": null,
   "metadata": {},
   "outputs": [],
   "source": [
    "plt.figure(figsize=(15,5))\n",
    "plt.subplot(1,2,1)\n",
    "data[data['GU_CD']//10000==1135].groupby('MCT_CAT_CD')['USE_AMT'].sum().sort_values(ascending=False).plot.bar()\n",
    "plt.title('노원구 결제총액' , fontproperties=fontprop)\n",
    "plt.subplot(1,2,2)\n",
    "data[data['GU_CD']//10000==1135].groupby('MCT_CAT_CD')['USE_CNT'].sum().sort_values(ascending=False).plot.bar()\n",
    "plt.title('노원구 결제횟수' , fontproperties=fontprop)"
   ]
  },
  {
   "cell_type": "markdown",
   "metadata": {},
   "source": [
    "노원구 매출 분포"
   ]
  }
 ],
 "metadata": {
  "kernelspec": {
   "display_name": "Python 3",
   "language": "python",
   "name": "python3"
  },
  "language_info": {
   "codemirror_mode": {
    "name": "ipython",
    "version": 3
   },
   "file_extension": ".py",
   "mimetype": "text/x-python",
   "name": "python",
   "nbconvert_exporter": "python",
   "pygments_lexer": "ipython3",
   "version": "3.6.8"
  }
 },
 "nbformat": 4,
 "nbformat_minor": 2
}
